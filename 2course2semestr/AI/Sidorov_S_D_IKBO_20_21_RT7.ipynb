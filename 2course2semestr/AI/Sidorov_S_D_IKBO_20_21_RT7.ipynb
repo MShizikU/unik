{
  "nbformat": 4,
  "nbformat_minor": 0,
  "metadata": {
    "colab": {
      "provenance": []
    },
    "kernelspec": {
      "name": "python3",
      "display_name": "Python 3"
    },
    "language_info": {
      "name": "python"
    }
  },
  "cells": [
    {
      "cell_type": "markdown",
      "source": [
        "1.1.1 Пример: рассмотрим программу обучения персептрона на языке Python. Сначала\n",
        "рассмотрим основной класс персептрона, который умеет учиться по\n",
        "тестовым данным."
      ],
      "metadata": {
        "id": "JcrmM0T1Kd7d"
      }
    },
    {
      "cell_type": "code",
      "execution_count": null,
      "metadata": {
        "colab": {
          "base_uri": "https://localhost:8080/"
        },
        "id": "Ygr4XUUvJP45",
        "outputId": "cabdab38-9ddc-4014-e404-49b821247bba"
      },
      "outputs": [
        {
          "output_type": "stream",
          "name": "stdout",
          "text": [
            "[0.1, -0.1]\n",
            "-1\n",
            "1\n",
            "1\n",
            "-1\n"
          ]
        }
      ],
      "source": [
        "class Perceptron:\n",
        "  def __init__(self, N):\n",
        "    self.w = list()\n",
        "    for i in range(N):\n",
        "      self.w.append(0)\n",
        "  \n",
        "  def calc(self, x):\n",
        "    res = 0\n",
        "    for i in range(len(self.w)):\n",
        "      res = res + self.w[i] * x[i]\n",
        "    return res\n",
        "\n",
        "  def sign(self, x):\n",
        "    if self.calc(x) > 0:\n",
        "      return 1\n",
        "    else:\n",
        "      return -1\n",
        "  \n",
        "  def learn(self, la, x, y):\n",
        "    if y * self.calc(x) <= 0:\n",
        "      for i in range(len(self.w)):\n",
        "        self.w[i] = self.w[i]  +la * y * x[i]\n",
        "\n",
        "  def learning(self, la, T):\n",
        "    for n in range(100):\n",
        "      for t in T:\n",
        "        self.learn(la, t[0], t[1])\n",
        "\n",
        "perceptron = Perceptron(2)\n",
        "\n",
        "la = 0.1\n",
        "\n",
        "T = list()\n",
        "T.append([[2,1], 1])\n",
        "T.append([[3,2], 1])\n",
        "T.append([[4,1], 1])\n",
        "T.append([[1,2], -1])\n",
        "T.append([[2,3], -1])\n",
        "T.append([[5,7], -1])\n",
        "\n",
        "perceptron.learning(la, T)\n",
        "\n",
        "print(perceptron.w)\n",
        "\n",
        "print(perceptron.sign([1.5, 2]))\n",
        "print(perceptron.sign([3, 1.5]))\n",
        "print(perceptron.sign([5,1]))\n",
        "print(perceptron.sign([5,10]))\n"
      ]
    },
    {
      "cell_type": "markdown",
      "source": [
        "1.2.2 Пусть нейрон имеет следующие значения: 𝑤 = [0,1] 𝑐 = 4.\n",
        "Входной слой: 𝑥 = 2, 𝑦 = 3."
      ],
      "metadata": {
        "id": "6w-S7zSyOo1i"
      }
    },
    {
      "cell_type": "code",
      "source": [
        "import numpy as np\n",
        "\n",
        "def sigmoid(x):\n",
        "  return 1 / (1  + np.exp(-x))\n",
        "\n",
        "class Neuron:\n",
        "  def __init__(self, weights, bias):\n",
        "    self.weights = weights\n",
        "    self.bias = bias\n",
        "  def feedforward(self, inputs):\n",
        "    total = np.dot(self.weights, inputs) + self.bias\n",
        "    return sigmoid(total)\n",
        "\n",
        "weights = np.array([0,1])\n",
        "bias = 4\n",
        "n = Neuron(weights, bias)\n",
        "x = np.array([2,3])\n",
        "print(n.feedforward(x))"
      ],
      "metadata": {
        "colab": {
          "base_uri": "https://localhost:8080/"
        },
        "id": "KvucRBlRSby8",
        "outputId": "0c407e76-b05f-4b23-a1a8-e506433aa070"
      },
      "execution_count": null,
      "outputs": [
        {
          "output_type": "stream",
          "name": "stdout",
          "text": [
            "0.9990889488055994\n"
          ]
        }
      ]
    },
    {
      "cell_type": "code",
      "source": [
        "import numpy as np\n",
        "\n",
        "\n",
        "\n",
        "class OurNeuralNetwork:\n",
        "  def __init__(self):\n",
        "    weights = np.array([0,1])\n",
        "    bias = 0\n",
        "\n",
        "    self.h1 = Neuron(weights, bias)\n",
        "    self.h2 = Neuron(weights, bias)\n",
        "    self.o1 = Neuron(weights, bias)\n",
        "  \n",
        "  def feedforward(self, x):\n",
        "    out_h1 = self.h1.feedforward(x)\n",
        "    out_h2 = self.h2.feedforward(x)\n",
        "\n",
        "    out_o1 = self.o1.feedforward(np.array([out_h1, out_h2]))\n",
        "    return out_o1\n",
        "\n",
        "network = OurNeuralNetwork()\n",
        "x = np.array([2,3])\n",
        "print(network.feedforward(x))\n",
        "\n"
      ],
      "metadata": {
        "colab": {
          "base_uri": "https://localhost:8080/"
        },
        "id": "2sUPLN5uUhQs",
        "outputId": "12363d10-d5d5-47d2-c2f0-daf0ec6523d7"
      },
      "execution_count": null,
      "outputs": [
        {
          "output_type": "stream",
          "name": "stdout",
          "text": [
            "0.7216325609518421\n"
          ]
        }
      ]
    },
    {
      "cell_type": "markdown",
      "source": [
        "Задание : Реализовать классы нейросетей по аналогии с классом OurNeuralNetwork.\n",
        "\n"
      ],
      "metadata": {
        "id": "z2XIxintZXKh"
      }
    },
    {
      "cell_type": "code",
      "source": [
        "import numpy as np\n",
        "\n",
        "def sigmoid(x):\n",
        "  return 1 / (1  + np.exp(-x))\n",
        "\n",
        "class Neuron:\n",
        "  def __init__(self, weights, bias):\n",
        "    self.weights = weights\n",
        "    self.bias = bias\n",
        "  def feedforward(self, inputs):\n",
        "    total = np.dot(self.weights, inputs) + self.bias\n",
        "    return sigmoid(total)\n",
        "\n",
        "class OurNeuralNetwork:\n",
        "  def __init__(self):\n",
        "    weights = np.array([0.5, 0.5, 0.5])\n",
        "    bias = 0\n",
        "\n",
        "    self.h1 = Neuron(weights, bias)\n",
        "    self.h2 = Neuron(weights, bias)\n",
        "    self.h3 = Neuron(weights, bias)\n",
        "    self.o1 = Neuron(weights, bias)\n",
        "  \n",
        "  def feedforward(self, x):\n",
        "    out_h1 = self.h1.feedforward(x)\n",
        "    out_h2 = self.h2.feedforward(x)\n",
        "    out_h3 = self.h2.feedforward(x)\n",
        "    out_o1 = self.o1.feedforward(np.array([out_h1, out_h2, out_h3]))\n",
        "    return out_o1\n",
        "\n",
        "network = OurNeuralNetwork()\n",
        "x = np.array([2,3,4])\n",
        "print(network.feedforward(x))"
      ],
      "metadata": {
        "colab": {
          "base_uri": "https://localhost:8080/"
        },
        "id": "ty1dXZjrZa3Y",
        "outputId": "40c625fc-8a64-49c0-b8ec-3ca9688ba39d"
      },
      "execution_count": null,
      "outputs": [
        {
          "output_type": "stream",
          "name": "stdout",
          "text": [
            "0.8151036049051821\n"
          ]
        }
      ]
    },
    {
      "cell_type": "code",
      "source": [
        "import numpy as np\n",
        "\n",
        "def sigmoid(x):\n",
        "  return 1 / (1  + np.exp(-x))\n",
        "\n",
        "class Neuron:\n",
        "  def __init__(self, weights, bias):\n",
        "    self.weights = weights\n",
        "    self.bias = bias\n",
        "  def feedforward(self, inputs):\n",
        "    total = np.dot(self.weights, inputs) + self.bias\n",
        "    return sigmoid(total)\n",
        "\n",
        "class OurNeuralNetwork:\n",
        "  def __init__(self):\n",
        "    weights = np.array([1, 0])\n",
        "    bias = 1\n",
        "\n",
        "    self.h1 = Neuron(weights, bias)\n",
        "    self.h2 = Neuron(weights, bias)\n",
        "    self.o1 = Neuron(weights, bias)\n",
        "  \n",
        "  def feedforward(self, x):\n",
        "    out_h1 = self.h1.feedforward(x)\n",
        "    out_h2 = self.h2.feedforward(x)\n",
        "    out_o1 = self.o1.feedforward(np.array([out_h1, out_h2]))\n",
        "    return out_o1\n",
        "\n",
        "network = OurNeuralNetwork()\n",
        "x = np.array([2,3])\n",
        "print(network.feedforward(x))"
      ],
      "metadata": {
        "colab": {
          "base_uri": "https://localhost:8080/"
        },
        "id": "iEhYdRs_Zipv",
        "outputId": "fd165213-008b-4132-9f0f-1a5b651052f7"
      },
      "execution_count": null,
      "outputs": [
        {
          "output_type": "stream",
          "name": "stdout",
          "text": [
            "0.8757270529783324\n"
          ]
        }
      ]
    },
    {
      "cell_type": "markdown",
      "source": [
        "Задание: реализуйте классы нейронных сетей с использованием других функций\n",
        "активации"
      ],
      "metadata": {
        "id": "nRkc5WWKa1no"
      }
    },
    {
      "cell_type": "code",
      "source": [
        "import numpy as np\n",
        "import math\n",
        "\n",
        "def sigmoid(x):\n",
        "  return math.tan(x)\n",
        "\n",
        "class Neuron:\n",
        "  def __init__(self, weights, bias):\n",
        "    self.weights = weights\n",
        "    self.bias = bias\n",
        "  def feedforward(self, inputs):\n",
        "    total = np.dot(self.weights, inputs) + self.bias\n",
        "    return sigmoid(total)\n",
        "\n",
        "class OurNeuralNetwork:\n",
        "  def __init__(self):\n",
        "    weights = np.array([1, 0])\n",
        "    bias = 1\n",
        "\n",
        "    self.h1 = Neuron(weights, bias)\n",
        "    self.h2 = Neuron(weights, bias)\n",
        "    self.o1 = Neuron(weights, bias)\n",
        "  \n",
        "  def feedforward(self, x):\n",
        "    out_h1 = self.h1.feedforward(x)\n",
        "    out_h2 = self.h2.feedforward(x)\n",
        "    out_o1 = self.o1.feedforward(np.array([out_h1, out_h2]))\n",
        "    return out_o1\n",
        "\n",
        "network = OurNeuralNetwork()\n",
        "x = np.array([2,3])\n",
        "print(network.feedforward(x))"
      ],
      "metadata": {
        "colab": {
          "base_uri": "https://localhost:8080/"
        },
        "id": "v_1IHnSoa1Fw",
        "outputId": "f7dfa72a-5c50-42ed-8b90-1f26e164f946"
      },
      "execution_count": null,
      "outputs": [
        {
          "output_type": "stream",
          "name": "stdout",
          "text": [
            "1.1555911185916798\n"
          ]
        }
      ]
    },
    {
      "cell_type": "code",
      "source": [
        "import numpy as np\n",
        "import math\n",
        "\n",
        "def sigmoid(x):\n",
        "  return max(0,x)\n",
        "\n",
        "class Neuron:\n",
        "  def __init__(self, weights, bias):\n",
        "    self.weights = weights\n",
        "    self.bias = bias\n",
        "  def feedforward(self, inputs):\n",
        "    total = np.dot(self.weights, inputs) + self.bias\n",
        "    return sigmoid(total)\n",
        "\n",
        "class OurNeuralNetwork:\n",
        "  def __init__(self):\n",
        "    weights = np.array([1, 0])\n",
        "    bias = 1\n",
        "\n",
        "    self.h1 = Neuron(weights, bias)\n",
        "    self.h2 = Neuron(weights, bias)\n",
        "    self.o1 = Neuron(weights, bias)\n",
        "  \n",
        "  def feedforward(self, x):\n",
        "    out_h1 = self.h1.feedforward(x)\n",
        "    out_h2 = self.h2.feedforward(x)\n",
        "    out_o1 = self.o1.feedforward(np.array([out_h1, out_h2]))\n",
        "    return out_o1\n",
        "\n",
        "network = OurNeuralNetwork()\n",
        "x = np.array([1,3])\n",
        "print(network.feedforward(x))"
      ],
      "metadata": {
        "colab": {
          "base_uri": "https://localhost:8080/"
        },
        "id": "FhZ-mK_9bJKt",
        "outputId": "934daa44-6378-40b6-de27-1d4c6af316bf"
      },
      "execution_count": null,
      "outputs": [
        {
          "output_type": "stream",
          "name": "stdout",
          "text": [
            "3\n"
          ]
        }
      ]
    },
    {
      "cell_type": "markdown",
      "source": [
        "Задание: используйте классы MLPClassified и MLPRegressor для классификации и\n",
        "регрессии произвольных данных из интернета. Проведите анализ\n",
        "атрибуты, полученных моделей."
      ],
      "metadata": {
        "id": "SxZZ_iTCxvpJ"
      }
    },
    {
      "cell_type": "code",
      "source": [
        "import pandas as pd\n",
        "from sklearn.neural_network import MLPClassifier, MLPRegressor\n",
        "from sklearn.model_selection import train_test_split\n",
        "from sklearn.metrics import accuracy_score, mean_squared_error\n",
        "\n",
        "import matplotlib.pyplot as plt\n",
        "\n",
        "\n",
        "iris_df = pd.read_csv('https://gist.githubusercontent.com/netj/8836201/raw/6f9306ad21398ea43cba4f7d537619d0e07d5ae3/iris.csv')\n",
        "\n",
        "\n",
        "iris_features = iris_df.drop('variety', axis=1)\n",
        "iris_label = iris_df['variety']\n",
        "\n",
        "print(iris_features.head())\n",
        "\n",
        "\n",
        "X_train, X_test, y_train, y_test = train_test_split(iris_features, iris_label, test_size=0.2, random_state=42)\n",
        "\n",
        "\n",
        "clf = MLPClassifier(hidden_layer_sizes=(10, 5), max_iter=1000)\n",
        "clf.fit(X_train, y_train)\n",
        "\n",
        "\n",
        "y_pred = clf.predict(X_test)\n",
        "\n",
        "accuracy = accuracy_score(y_test, y_pred)\n",
        "print('Accuracy:', accuracy)\n",
        "\n",
        "print(y_pred[:15])\n",
        "print(y_test[:15])\n",
        "\n",
        "\n"
      ],
      "metadata": {
        "colab": {
          "base_uri": "https://localhost:8080/"
        },
        "id": "JdddkFifyjPN",
        "outputId": "d7012047-7211-4304-b1bf-e7f6a682d84a"
      },
      "execution_count": null,
      "outputs": [
        {
          "output_type": "stream",
          "name": "stdout",
          "text": [
            "   sepal.length  sepal.width  petal.length  petal.width\n",
            "0           5.1          3.5           1.4          0.2\n",
            "1           4.9          3.0           1.4          0.2\n",
            "2           4.7          3.2           1.3          0.2\n",
            "3           4.6          3.1           1.5          0.2\n",
            "4           5.0          3.6           1.4          0.2\n",
            "Accuracy: 0.9666666666666667\n",
            "['Versicolor' 'Setosa' 'Virginica' 'Versicolor' 'Versicolor' 'Setosa'\n",
            " 'Versicolor' 'Virginica' 'Virginica' 'Versicolor' 'Virginica' 'Setosa'\n",
            " 'Setosa' 'Setosa' 'Setosa']\n",
            "73     Versicolor\n",
            "18         Setosa\n",
            "118     Virginica\n",
            "78     Versicolor\n",
            "76     Versicolor\n",
            "31         Setosa\n",
            "64     Versicolor\n",
            "141     Virginica\n",
            "68     Versicolor\n",
            "82     Versicolor\n",
            "110     Virginica\n",
            "12         Setosa\n",
            "36         Setosa\n",
            "9          Setosa\n",
            "19         Setosa\n",
            "Name: variety, dtype: object\n"
          ]
        }
      ]
    },
    {
      "cell_type": "code",
      "source": [
        "import pandas as pd\n",
        "from sklearn.neural_network import MLPClassifier, MLPRegressor\n",
        "from sklearn.model_selection import train_test_split\n",
        "from sklearn.metrics import accuracy_score, mean_squared_error\n",
        "\n",
        "\n",
        "salary_df = pd.read_csv('https://raw.githubusercontent.com/AnnaShestova/salary-years-simple-linear-regression/master/Salary_Data.csv')\n",
        "\n",
        "\n",
        "salary_features = salary_df.drop('Salary', axis=1)\n",
        "salary_label = salary_df['Salary']\n",
        "\n",
        "X_train, X_test, y_train, y_test = train_test_split(salary_features, salary_label, test_size=0.2, random_state=42)\n",
        "\n",
        "\n",
        "reg = MLPRegressor(hidden_layer_sizes=(10, 5), max_iter=1000)\n",
        "reg.fit(X_train, y_train)\n",
        "\n",
        "\n",
        "y_pred = reg.predict(X_test)\n",
        "\n",
        "\n",
        "mse = mean_squared_error(y_test, y_pred)\n",
        "print('Mean-squared error:', mse)\n",
        "\n",
        "print(y_pred[:15])\n",
        "print(y_test[:15])"
      ],
      "metadata": {
        "colab": {
          "base_uri": "https://localhost:8080/"
        },
        "id": "oIhw3LWa2Ork",
        "outputId": "abc43ed4-638e-475a-a11e-7871bc774ee4"
      },
      "execution_count": null,
      "outputs": [
        {
          "output_type": "stream",
          "name": "stdout",
          "text": [
            "Mean-squared error: 7401161935.454328\n",
            "[250.08271209 140.87978328 217.5541801  150.17364956 101.38085158\n",
            " 112.99818443]\n",
            "27    112635.0\n",
            "15     67938.0\n",
            "23    113812.0\n",
            "17     83088.0\n",
            "8      64445.0\n",
            "9      57189.0\n",
            "Name: Salary, dtype: float64\n"
          ]
        },
        {
          "output_type": "stream",
          "name": "stderr",
          "text": [
            "/usr/local/lib/python3.9/dist-packages/sklearn/neural_network/_multilayer_perceptron.py:686: ConvergenceWarning: Stochastic Optimizer: Maximum iterations (1000) reached and the optimization hasn't converged yet.\n",
            "  warnings.warn(\n"
          ]
        }
      ]
    }
  ]
}