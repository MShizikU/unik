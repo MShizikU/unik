{
  "nbformat": 4,
  "nbformat_minor": 0,
  "metadata": {
    "colab": {
      "provenance": []
    },
    "kernelspec": {
      "name": "python3",
      "display_name": "Python 3"
    },
    "language_info": {
      "name": "python"
    }
  },
  "cells": [
    {
      "cell_type": "markdown",
      "source": [
        "1.1.1 Пример: Проведем прямую 𝑦 = 𝑚𝑥 + 𝑏 через экспериментальные точки."
      ],
      "metadata": {
        "id": "Cl_BD7rJU8WU"
      }
    },
    {
      "cell_type": "code",
      "execution_count": null,
      "metadata": {
        "colab": {
          "base_uri": "https://localhost:8080/",
          "height": 282
        },
        "id": "ohNy1LiHURtT",
        "outputId": "e080cea0-3e59-4f81-8973-23581cce9716"
      },
      "outputs": [
        {
          "output_type": "stream",
          "name": "stdout",
          "text": [
            "0.9999999999999999 -0.9499999999999997\n"
          ]
        },
        {
          "output_type": "display_data",
          "data": {
            "text/plain": [
              "<Figure size 432x288 with 1 Axes>"
            ],
            "image/png": "[encoded data removed]"
          },
          "metadata": {
            "needs_background": "light"
          }
        }
      ],
      "source": [
        "import numpy as np\n",
        "import matplotlib.pyplot as plt\n",
        "\n",
        "x = np.array([0,1,2,3])\n",
        "y = np.array([-1,0.2, 0.9, 2.1])\n",
        "\n",
        "A = np.vstack([x, np.ones(len(x))]).T\n",
        "A\n",
        "\n",
        "m, c = np.linalg.lstsq(A, y, rcond = None)[0]\n",
        "\n",
        "print(m,c)\n",
        "\n",
        "plt.plot(x,y, 'o', label=\"Искходые данные\", markersize = 10)\n",
        "plt.plot(x, m*x + c, 'r', label='Линейная экстраполяция')\n",
        "plt.legend()\n",
        "plt.show()"
      ]
    },
    {
      "cell_type": "markdown",
      "source": [
        "1.1.2 Пример : пусть 𝑥, 𝑦 – вектора длиной 𝑛 > 3 (точек > 3). Задача заключается в\n",
        "построении эстраполяционного полинома второго порядка (параболы). Таким\n",
        "образом, необходимо найти такие коэффициенты поринома 𝑎, 𝑏, 𝑐 по методу\n",
        "наименьших квадратов. Данные мтогут быть получены в результате\n",
        "измерений. Покажем пример генерации данных случайным образом и\n",
        "загрузки их из файла."
      ],
      "metadata": {
        "id": "QpvQ6KgHWPCq"
      }
    },
    {
      "cell_type": "code",
      "source": [
        "from numpy import *\n",
        "from numpy.random import *\n",
        "\n",
        "delta = 1.0\n",
        "\n",
        "x = linspace(-5, 5, 11)\n",
        "y = x**2 + delta*(rand(11) - 0.5)\n",
        "x += delta*(rand(11) - 0.5)\n",
        "\n",
        "x.tofile('x_data.txt', '\\n')\n",
        "y.tofile('y_data.txt', '\\n')\n",
        "\n",
        "x = fromfile('x_data.txt', float, sep='\\n')\n",
        "y = fromfile('y_data.txt', float, sep = '\\n')\n",
        "\n",
        "print(x)\n",
        "print(y)\n",
        "\n",
        "m = vstack((x**2, x ,ones(11))).T\n",
        "\n",
        "s = np.linalg.lstsq(m, y, rcond = None)[0]\n",
        "\n",
        "x_prec = linspace(-5, 5, 101)\n",
        "\n",
        "plt.plot(x,y,'D')\n",
        "\n",
        "plt.plot(x_prec, s[0] * x_prec**2 + s[1] * x_prec + s[2], '-', lw=2)\n",
        "plt.grid()\n",
        "plt.savefig('parabola.png')"
      ],
      "metadata": {
        "colab": {
          "base_uri": "https://localhost:8080/",
          "height": 334
        },
        "id": "v8E4zGEUWOuy",
        "outputId": "1be3c2c5-2170-4c41-e7dd-e2dbc133fd0d"
      },
      "execution_count": null,
      "outputs": [
        {
          "output_type": "stream",
          "name": "stdout",
          "text": [
            "[-5.44513099 -3.93279496 -2.57169129 -1.80955654 -1.1657482  -0.32972011\n",
            "  1.11526182  1.94003663  3.16578419  4.28706613  4.76976451]\n",
            "[24.51312618 16.47926066  9.39308138  3.83570992  0.57820101 -0.28411774\n",
            "  0.91044528  4.10743187  9.11466728 16.30929895 24.7471302 ]\n"
          ]
        },
        {
          "output_type": "display_data",
          "data": {
            "text/plain": [
              "<Figure size 432x288 with 1 Axes>"
            ],
            "image/png": "[encoded data removed]"
          },
          "metadata": {
            "needs_background": "light"
          }
        }
      ]
    },
    {
      "cell_type": "markdown",
      "source": [
        "1.1.3 Пример: по данным предыдущего примера постройте эстраполяционного полинома\n",
        "третьего порядка"
      ],
      "metadata": {
        "id": "Np26UcirXzZ_"
      }
    },
    {
      "cell_type": "code",
      "source": [
        "from numpy import *\n",
        "from numpy.random import *\n",
        "\n",
        "delta = 1.0\n",
        "\n",
        "x = linspace(-5, 5, 11)\n",
        "y = x**2 + delta*(rand(11) - 0.5)\n",
        "x += delta*(rand(11) - 0.5)\n",
        "\n",
        "x.tofile('x_data.txt', '\\n')\n",
        "y.tofile('y_data.txt', '\\n')\n",
        "\n",
        "x = fromfile('x_data.txt', float, sep='\\n')\n",
        "y = fromfile('y_data.txt', float, sep = '\\n')\n",
        "\n",
        "print(x)\n",
        "print(y)\n",
        "\n",
        "m = vstack((x**3,x**2, x ,ones(11))).T\n",
        "\n",
        "s = np.linalg.lstsq(m, y, rcond = None)[0]\n",
        "\n",
        "x_prec = linspace(-5, 5, 101)\n",
        "\n",
        "plt.plot(x,y,'D')\n",
        "\n",
        "plt.plot(x_prec, s[0] * x_prec**3 + s[1] * x_prec**2 + s[2] * x_prec + s[3], '-', lw=3)\n",
        "plt.grid()\n",
        "plt.savefig('ploinom**3.png')"
      ],
      "metadata": {
        "colab": {
          "base_uri": "https://localhost:8080/",
          "height": 334
        },
        "id": "woEPah8AX3V3",
        "outputId": "22d98ad4-8597-4711-d9f6-261bd0546e74"
      },
      "execution_count": null,
      "outputs": [
        {
          "output_type": "stream",
          "name": "stdout",
          "text": [
            "[-4.59446136 -4.00110601 -2.99080189 -1.65781388 -1.02135034  0.36203149\n",
            "  0.9875266   2.00337188  3.05917679  3.74044791  4.87941132]\n",
            "[24.93852801 15.5266907   9.3681652   4.11022012  1.36890595  0.09438049\n",
            "  1.15260098  3.73537022  9.11447294 16.32301269 24.76936978]\n"
          ]
        },
        {
          "output_type": "display_data",
          "data": {
            "text/plain": [
              "<Figure size 432x288 with 1 Axes>"
            ],
            "image/png": "[encoded data removed]"
          },
          "metadata": {
            "needs_background": "light"
          }
        }
      ]
    },
    {
      "cell_type": "markdown",
      "source": [
        "Задание: представьте собственные данные и постройте эктраполяцию полиномами\n",
        "первой, второй и третьей степени."
      ],
      "metadata": {
        "id": "FOTqc6viYPTD"
      }
    },
    {
      "cell_type": "code",
      "source": [
        "from numpy import *\n",
        "from numpy.random import *\n",
        "\n",
        "delta = 2\n",
        "\n",
        "x = linspace(-5, 5, 15)\n",
        "y = x + delta*(rand(15) - 1)\n",
        "x += delta*(rand(15) - 0.5)\n",
        "A = np.vstack([x, np.ones(len(x))]).T\n",
        "A\n",
        "\n",
        "m, c = np.linalg.lstsq(A, y, rcond = None)[0]\n",
        "\n",
        "print(m,c)\n",
        "\n",
        "plt.plot(x,y, 'o', label=\"Искходые данные\", markersize = 10)\n",
        "plt.plot(x, m*x + c, 'r', label='Линейная экстраполяция')\n",
        "plt.legend()\n",
        "plt.show()"
      ],
      "metadata": {
        "colab": {
          "base_uri": "https://localhost:8080/",
          "height": 283
        },
        "id": "u3d_4o4YYTBD",
        "outputId": "2bb9acaa-7e7f-4e5f-ad45-cf5ec2fab18d"
      },
      "execution_count": null,
      "outputs": [
        {
          "output_type": "stream",
          "name": "stdout",
          "text": [
            "0.8795526112211225 -0.731603135421866\n"
          ]
        },
        {
          "output_type": "display_data",
          "data": {
            "text/plain": [
              "<Figure size 432x288 with 1 Axes>"
            ],
            "image/png": "[encoded data removed]"
          },
          "metadata": {
            "needs_background": "light"
          }
        }
      ]
    },
    {
      "cell_type": "code",
      "source": [
        "from numpy import *\n",
        "from numpy.random import *\n",
        "\n",
        "delta = 2\n",
        "\n",
        "x = linspace(-5, 5, 15)\n",
        "y = x**2 + delta*(rand(15) - 1)\n",
        "x += delta*(rand(15) - 0.5)\n",
        "m = vstack((x**2, x ,ones(15))).T\n",
        "\n",
        "s = np.linalg.lstsq(m, y, rcond = None)[0]\n",
        "\n",
        "x_prec = linspace(-5, 5, 101)\n",
        "\n",
        "plt.plot(x,y,'D')\n",
        "\n",
        "plt.plot(x_prec, s[0] * x_prec**2 + s[1] * x_prec + s[2], '-', lw=2)\n",
        "plt.grid()\n",
        "plt.savefig('parabola.png')"
      ],
      "metadata": {
        "colab": {
          "base_uri": "https://localhost:8080/",
          "height": 265
        },
        "id": "Yz1ldm43YTWM",
        "outputId": "4951d430-7de5-4ae4-e2a6-8b07228baadb"
      },
      "execution_count": null,
      "outputs": [
        {
          "output_type": "display_data",
          "data": {
            "text/plain": [
              "<Figure size 432x288 with 1 Axes>"
            ],
            "image/png": "[encoded data removed]"
          },
          "metadata": {
            "needs_background": "light"
          }
        }
      ]
    },
    {
      "cell_type": "code",
      "source": [
        "from numpy import *\n",
        "from numpy.random import *\n",
        "\n",
        "delta = 2\n",
        "\n",
        "x = linspace(-5, 5, 15)\n",
        "y = x**3 + delta*(rand(15) - 1)\n",
        "x += delta*(rand(15) - 0.5)\n",
        "\n",
        "m = vstack((x**3,x**2, x ,ones(15))).T\n",
        "\n",
        "s = np.linalg.lstsq(m, y, rcond = None)[0]\n",
        "\n",
        "x_prec = linspace(-5, 5, 101)\n",
        "\n",
        "plt.plot(x,y,'D')\n",
        "\n",
        "plt.plot(x_prec, s[0] * x_prec**3 + s[1] * x_prec**2 + s[2] * x_prec + s[3], '-', lw=3)\n",
        "plt.grid()\n",
        "plt.savefig('ploinom**3.png')"
      ],
      "metadata": {
        "colab": {
          "base_uri": "https://localhost:8080/",
          "height": 265
        },
        "id": "wLeDwHkSYTiQ",
        "outputId": "0995e193-920d-4c91-ab8f-e37a56370a32"
      },
      "execution_count": null,
      "outputs": [
        {
          "output_type": "display_data",
          "data": {
            "text/plain": [
              "<Figure size 432x288 with 1 Axes>"
            ],
            "image/png": "[encoded data removed]"
          },
          "metadata": {
            "needs_background": "light"
          }
        }
      ]
    },
    {
      "cell_type": "markdown",
      "source": [
        "1.1.4 Пример:Необходимо проверить гипотезу, что наши точечно заданная функция ложится\n",
        "на кривую вида \n",
        "𝑓(𝑥, 𝑏) = 𝑏0 + 𝑏1𝑒𝑥𝑝(−𝑏2𝑥**\n",
        "2\n",
        ")\n",
        " "
      ],
      "metadata": {
        "id": "xLraBTQ-ZQNm"
      }
    },
    {
      "cell_type": "code",
      "source": [
        "from scipy.optimize import curve_fit\n",
        "\n",
        "beta  = (0.25, 0.75, 0.5)\n",
        "def f(x, b0, b1, b2):\n",
        "  return b0 + b1 * np.exp(-b2 * x**2)\n",
        "\n",
        "xdata = np.linspace(0,5, 50)\n",
        "\n",
        "y = f(xdata, *beta)\n",
        "\n",
        "ydata = y + 0.05 * np.random.randn(len(xdata))\n",
        "\n",
        "beta_opt, beta_cov = curve_fit(f, xdata, ydata)\n",
        "beta_opt\n",
        "\n",
        "lin_dev  = sum(beta_cov[0])\n",
        "print(lin_dev)\n",
        "\n",
        "residuals  = ydata -  f(xdata, * beta_opt)\n",
        "fres = sum(residuals**2)\n",
        "print(fres)\n",
        "\n",
        "fig, ax = plt.subplots()\n",
        "ax.scatter(xdata, ydata)\n",
        "ax.plot(xdata, y , 'r', lw = 2)\n",
        "ax.plot(xdata, f(xdata, * beta_opt), 'b', lw=2)\n",
        "ax.set_xlabel(r\"$x$\", fontsize = 18)\n",
        "ax.set_ylabel(r\"$f(x, \\beta)$\", fontsize=18)\n",
        "plt.show()\n"
      ],
      "metadata": {
        "colab": {
          "base_uri": "https://localhost:8080/",
          "height": 322
        },
        "id": "N1EiU49XZhGF",
        "outputId": "afd16d54-6469-40ef-89d2-8f33ad8fce76"
      },
      "execution_count": null,
      "outputs": [
        {
          "output_type": "stream",
          "name": "stdout",
          "text": [
            "0.0002639143806957348\n",
            "0.13976526804475478\n"
          ]
        },
        {
          "output_type": "display_data",
          "data": {
            "text/plain": [
              "<Figure size 432x288 with 1 Axes>"
            ],
            "image/png": "[encoded data removed]"
          },
          "metadata": {
            "needs_background": "light"
          }
        }
      ]
    },
    {
      "cell_type": "markdown",
      "source": [
        "1.1.5 Пример: Необходимо проверить гипотезу, что наши точечно заданная функция ложится\n",
        "на кривые вида:\n",
        "1) 𝑓(𝑥, 𝑏) = 𝑏0 + 𝑏1𝑥\n",
        "2) 𝑓(𝑥, 𝑏) = 𝑏0 + 𝑏1𝑥 + 𝑏2𝑥\n",
        "2\n",
        "3) 𝑓(𝑥, 𝑏) = 𝑏0 + 𝑏1𝑙𝑛(𝑥)\n",
        "4) 𝑓(𝑥, 𝑏) = 𝑏0 𝑥\n",
        "𝑏1"
      ],
      "metadata": {
        "id": "KgB7APhBbp8S"
      }
    },
    {
      "cell_type": "code",
      "source": [
        "beta = (0.25, 0.75)\n",
        "\n",
        "def f(x, b0, bl):\n",
        "  return b0 + bl * x\n",
        "\n",
        "\n",
        "xdata = np.linspace(0, 5, 50)\n",
        "\n",
        "\n",
        "y = f(xdata, *beta)\n",
        "\n",
        "\n",
        "\n",
        "ydata = y + 0.05 * np.random.randn(len(xdata))\n",
        "\n",
        "beta_opt, beta_cov = curve_fit(f, xdata, ydata)\n",
        "\n",
        "print(beta_opt)\n",
        "\n",
        "\n",
        "lin_dev = sum(beta_cov[0])\n",
        "\n",
        "print(lin_dev)\n",
        "\n",
        "residuals = ydata - f(xdata, *beta_opt)\n",
        "fres = sum(residuals**2)\n",
        "\n",
        "print(fres)\n",
        "\n",
        "fig, ax = plt.subplots()\n",
        "ax.scatter(xdata, ydata)\n",
        "ax.plot(xdata, y, 'r', lw=2)\n",
        "ax.plot(xdata, f(xdata, *beta_opt), 'b', lw=2)\n",
        "ax.set_xlim(0, 5)\n",
        "ax.set_xlabel(r\"$x$\", fontsize=18)\n",
        "ax.set_ylabel(r\"$f(x, \\beta)$\", fontsize=18)\n",
        "plt.show()"
      ],
      "metadata": {
        "colab": {
          "base_uri": "https://localhost:8080/",
          "height": 339
        },
        "id": "mi197BjxbuuR",
        "outputId": "662c6f92-bcc6-452c-9533-7c2fdae68069"
      },
      "execution_count": null,
      "outputs": [
        {
          "output_type": "stream",
          "name": "stdout",
          "text": [
            "[0.24046956 0.75181198]\n",
            "0.00011608695662179328\n",
            "0.10207646017621123\n"
          ]
        },
        {
          "output_type": "display_data",
          "data": {
            "text/plain": [
              "<Figure size 432x288 with 1 Axes>"
            ],
            "image/png": "[encoded data removed]"
          },
          "metadata": {
            "needs_background": "light"
          }
        }
      ]
    },
    {
      "cell_type": "code",
      "source": [
        "\n",
        "beta = (0.25, 0.75, 0.5)\n",
        "def f(x, b0, b1, b2):\n",
        "  return b0 + b1 * x + b2* x * x\n",
        "\n",
        "xdata = np.linspace(0, 5, 50)\n",
        "\n",
        "y = f(xdata, *beta)\n",
        "\n",
        "ydata = y + 0.05 * np.random.randn(len(xdata))\n",
        "beta_opt, beta_cov = curve_fit(f, xdata, ydata)\n",
        "print (beta_opt)\n",
        "\n",
        "lin_dev = sum(beta_cov[0])\n",
        "print(lin_dev)\n",
        "\n",
        "residuals = ydata - f(xdata,*beta_opt)\n",
        "fres = sum(residuals**2)\n",
        "print(fres)\n",
        "fig, ax = plt.subplots()\n",
        "ax.scatter(xdata, ydata)\n",
        "ax.plot(xdata, y, 'r', lw=2)\n",
        "ax.plot(xdata, f(xdata, *beta_opt), 'b', lw=2)\n",
        "ax.set_xlim(0, 5)\n",
        "ax.set_xlabel(r\"$x$\", fontsize=18)\n",
        "ax.set_ylabel(r\"$f(x, \\beta)$\", fontsize=18)\n",
        "plt.show()"
      ],
      "metadata": {
        "colab": {
          "base_uri": "https://localhost:8080/",
          "height": 339
        },
        "id": "UxIDwW7Gc9VA",
        "outputId": "bead1c85-ec5e-4cba-be5d-248c68955d88"
      },
      "execution_count": null,
      "outputs": [
        {
          "output_type": "stream",
          "name": "stdout",
          "text": [
            "[0.25295889 0.73596827 0.50350565]\n",
            "0.00020295278561833986\n",
            "0.16924137689430005\n"
          ]
        },
        {
          "output_type": "display_data",
          "data": {
            "text/plain": [
              "<Figure size 432x288 with 1 Axes>"
            ],
            "image/png": "[encoded data removed]"
          },
          "metadata": {
            "needs_background": "light"
          }
        }
      ]
    },
    {
      "cell_type": "code",
      "source": [
        "beta = (1, 2)\n",
        "def f(x, b0, b1):\n",
        "  return b0 + b1 * np.log(x)\n",
        "\n",
        "xdata = np.linspace(1, 5, 50)\n",
        "\n",
        "y = f(xdata, *beta)\n",
        "\n",
        "ydata = y + 0.05 * np.random.randn( len(xdata) )\n",
        "beta_opt, beta_cov = curve_fit(f, xdata, ydata)\n",
        "print(beta_opt)\n",
        "\n",
        "lin_dev = sum(beta_cov[0])\n",
        "print(lin_dev)\n",
        "\n",
        "residuals = ydata - f(xdata, *beta_opt)\n",
        "fres = sum(residuals**2)\n",
        "print(fres)\n",
        "\n",
        "residuals = ydata - f(xdata,*beta_opt)\n",
        "fres = sum(residuals**2)\n",
        "print(fres)\n",
        "fig, ax = plt.subplots()\n",
        "ax.scatter(xdata, ydata)\n",
        "ax.plot(xdata, y, 'r', lw=2)\n",
        "ax.plot(xdata, f(xdata, *beta_opt), 'b', lw=2)\n",
        "ax.set_xlim(0, 5)\n",
        "ax.set_xlabel(r\"$x$\", fontsize=18)\n",
        "ax.set_ylabel(r\"$f(x, \\beta)$\", fontsize=18)\n",
        "plt.show()"
      ],
      "metadata": {
        "colab": {
          "base_uri": "https://localhost:8080/",
          "height": 356
        },
        "id": "toSHu3E3dQuD",
        "outputId": "07f15db8-731b-4671-e8b6-b815a869fc08"
      },
      "execution_count": null,
      "outputs": [
        {
          "output_type": "stream",
          "name": "stdout",
          "text": [
            "[1.00360633 1.99903666]\n",
            "4.708917982238563e-05\n",
            "0.10889096731627076\n",
            "0.10889096731627076\n"
          ]
        },
        {
          "output_type": "display_data",
          "data": {
            "text/plain": [
              "<Figure size 432x288 with 1 Axes>"
            ],
            "image/png": "[encoded data removed]"
          },
          "metadata": {
            "needs_background": "light"
          }
        }
      ]
    },
    {
      "cell_type": "code",
      "source": [
        "beta = (1, 2)\n",
        "def f(x, b0, b1):\n",
        "  return b0 * x ** b1\n",
        "\n",
        "xdata = np.linspace(1, 5, 50)\n",
        "\n",
        "y = f(xdata, *beta)\n",
        "\n",
        "ydata = y + 0.05 * np.random.randn(len(xdata))\n",
        "beta_opt, beta_cov = curve_fit(f, xdata, ydata)\n",
        "print(beta_opt)\n",
        "\n",
        "lin_dev = sum(beta_cov[0])\n",
        "print(lin_dev)\n",
        "\n",
        "residuals = ydata - f(xdata,*beta_opt)\n",
        "fres = sum(residuals**2)\n",
        "print(fres)\n",
        "\n",
        "residuals = ydata - f(xdata,*beta_opt)\n",
        "fres = sum(residuals**2)\n",
        "print(fres)\n",
        "fig, ax = plt.subplots()\n",
        "ax.scatter(xdata, ydata)\n",
        "ax.plot(xdata, y, 'r', lw=2)\n",
        "ax.plot(xdata, f(xdata, *beta_opt), 'b', lw=2)\n",
        "ax.set_xlim(0, 5)\n",
        "ax.set_xlabel(r\"$x$\", fontsize=18)\n",
        "ax.set_ylabel(r\"$f(x, \\beta)$\", fontsize=18)\n",
        "plt.show()"
      ],
      "metadata": {
        "colab": {
          "base_uri": "https://localhost:8080/",
          "height": 356
        },
        "id": "We_Gtq9rdnKq",
        "outputId": "bdb4ec1b-9272-4eea-c571-a5644b7311d3"
      },
      "execution_count": null,
      "outputs": [
        {
          "output_type": "stream",
          "name": "stdout",
          "text": [
            "[1.00443274 1.9966155 ]\n",
            "5.215629669479738e-06\n",
            "0.12209018512346347\n",
            "0.12209018512346347\n"
          ]
        },
        {
          "output_type": "display_data",
          "data": {
            "text/plain": [
              "<Figure size 432x288 with 1 Axes>"
            ],
            "image/png": "[encoded data removed]"
          },
          "metadata": {
            "needs_background": "light"
          }
        }
      ]
    },
    {
      "cell_type": "markdown",
      "source": [
        "Задание: подставьте собственные данные и поэкспериментируйте с представленными\n",
        "функциями. Проанализируйте динамику изменения данных."
      ],
      "metadata": {
        "id": "8V_ZotSmd9ig"
      }
    },
    {
      "cell_type": "code",
      "source": [
        "beta = (0.12, 0.35, 0.44)\n",
        "def f(x, b0, b1, b2):\n",
        "  return b0 * x ** b1  + b2 * b1 ** x\n",
        "\n",
        "xdata = np.linspace(1,10 , 100)\n",
        "\n",
        "y = f(xdata, *beta)\n",
        "\n",
        "ydata = y + 0.004 * np.random.randn(len(xdata))\n",
        "beta_opt, beta_cov = curve_fit(f, xdata, ydata)\n",
        "print(beta_opt)\n",
        "\n",
        "lin_dev = sum(beta_cov[0])\n",
        "print(lin_dev)\n",
        "\n",
        "residuals = ydata - f(xdata,*beta_opt)\n",
        "fres = sum(residuals**2)\n",
        "print(fres)\n",
        "\n",
        "residuals = ydata - f(xdata,*beta_opt)\n",
        "fres = sum(residuals**2)\n",
        "print(fres)\n",
        "fig, ax = plt.subplots()\n",
        "ax.scatter(xdata, ydata)\n",
        "ax.plot(xdata, y, 'r', lw=2)\n",
        "ax.plot(xdata, f(xdata, *beta_opt), 'b', lw=2)\n",
        "ax.set_xlim(0, 5)\n",
        "ax.set_xlabel(r\"$x$\", fontsize=18)\n",
        "ax.set_ylabel(r\"$f(x, \\beta)$\", fontsize=18)\n",
        "plt.show()"
      ],
      "metadata": {
        "colab": {
          "base_uri": "https://localhost:8080/",
          "height": 356
        },
        "id": "SQE37RhKeB97",
        "outputId": "5ad4d9c7-c6e2-4377-8a90-229fac0d6ec2"
      },
      "execution_count": null,
      "outputs": [
        {
          "output_type": "stream",
          "name": "stdout",
          "text": [
            "[0.1170515  0.36236742 0.43484566]\n",
            "-2.3911148691415167e-06\n",
            "0.0015954382571738428\n",
            "0.0015954382571738428\n"
          ]
        },
        {
          "output_type": "display_data",
          "data": {
            "text/plain": [
              "<Figure size 432x288 with 1 Axes>"
            ],
            "image/png": "[encoded data removed]"
          },
          "metadata": {
            "needs_background": "light"
          }
        }
      ]
    },
    {
      "cell_type": "markdown",
      "source": [
        "1.2.1 Пример построим простую линейную регрессию в Python с использованием\n",
        "библиотеки scikit-learn\n"
      ],
      "metadata": {
        "id": "JgQQne0mfCPd"
      }
    },
    {
      "cell_type": "code",
      "source": [
        "import pandas as pd\n",
        "import numpy as np\n",
        "import matplotlib.pyplot as plt\n",
        "\n",
        "from pandas import DataFrame, Series \n",
        "from sklearn.model_selection import train_test_split\n",
        "from sklearn.linear_model import LinearRegression\n",
        "\n",
        "\n",
        "my_dict = {\n",
        "    'Учебное время': [0.5, 0.75, 1, 1.25, 1.5, 1.75, 2, 2.25, 2.5, 2.75, 3, 3.25, 3.5, 3.75, 4, 4.25, 4.5, 4.75, 5, 5.25, 5.5],\n",
        "    'Оценка' : [10, 22 ,13, 43, 20, 22, 33 , 50 , 62, 48 ,55, 75, 62, 73, 81, 76, 64, 82, 90, 93, 100]\n",
        "}\n",
        "\n",
        "dataset = pd.DataFrame(my_dict)\n",
        "dataset.head()\n",
        "\n",
        "print(dataset.shape)\n",
        "dataset.describe()\n",
        "\n",
        "plt.scatter(dataset['Учебное время'], dataset['Оценка'], color = 'b', label = 'данные экзамена')\n",
        "plt.xlabel(\"Часы\")\n",
        "plt.ylabel(\"Оценка\")\n",
        "plt.show()\n",
        "\n",
        "x = dataset.iloc[:, :-1].values\n",
        "y = dataset.iloc[:,1].values\n",
        "print(x)\n",
        "print(y)\n",
        "\n",
        "x_train, x_test, y_train, y_test = train_test_split(x, y, test_size = 0.2, random_state = 0)\n",
        "\n",
        "regressor = LinearRegression()\n",
        "regressor.fit(x_train, y_train)\n",
        "\n",
        "print(regressor.intercept_)\n",
        "print(regressor.coef_)"
      ],
      "metadata": {
        "colab": {
          "base_uri": "https://localhost:8080/",
          "height": 730
        },
        "id": "VqwxKUm7fLJO",
        "outputId": "fce4daa5-f871-46cd-c777-d248b316c75a"
      },
      "execution_count": null,
      "outputs": [
        {
          "output_type": "stream",
          "name": "stdout",
          "text": [
            "(21, 2)\n"
          ]
        },
        {
          "output_type": "display_data",
          "data": {
            "text/plain": [
              "<Figure size 432x288 with 1 Axes>"
            ],
            "image/png": "[encoded data removed]"
          },
          "metadata": {
            "needs_background": "light"
          }
        },
        {
          "output_type": "stream",
          "name": "stdout",
          "text": [
            "[[0.5 ]\n",
            " [0.75]\n",
            " [1.  ]\n",
            " [1.25]\n",
            " [1.5 ]\n",
            " [1.75]\n",
            " [2.  ]\n",
            " [2.25]\n",
            " [2.5 ]\n",
            " [2.75]\n",
            " [3.  ]\n",
            " [3.25]\n",
            " [3.5 ]\n",
            " [3.75]\n",
            " [4.  ]\n",
            " [4.25]\n",
            " [4.5 ]\n",
            " [4.75]\n",
            " [5.  ]\n",
            " [5.25]\n",
            " [5.5 ]]\n",
            "[ 10  22  13  43  20  22  33  50  62  48  55  75  62  73  81  76  64  82\n",
            "  90  93 100]\n",
            "2.5346534653465227\n",
            "[16.96181047]\n"
          ]
        }
      ]
    },
    {
      "cell_type": "code",
      "source": [
        "import pandas as pd\n",
        "import numpy as np\n",
        "import matplotlib.pyplot as plt\n",
        "\n",
        "from pandas import DataFrame, Series \n",
        "from sklearn.model_selection import train_test_split\n",
        "from sklearn.linear_model import LinearRegression\n",
        "\n",
        "\n",
        "my_dict = {\n",
        "    'Учебное время': [0.5, 0.75, 1, 1.25, 1.5, 1.75, 2, 2.25, 2.5, 2.75, 3, 3.25, 3.5, 3.75, 4, 4.25, 4.5, 4.75, 5, 5.25, 5.5],\n",
        "    'Оценка' : [10, 22 ,13, 43, 20, 22, 33 , 50 , 62, 48 ,55, 75, 62, 73, 81, 76, 64, 82, 90, 93, 100]\n",
        "}\n",
        "\n",
        "dataset = pd.DataFrame(my_dict)\n",
        "dataset.head()\n",
        "\n",
        "print(dataset.shape)\n",
        "dataset.describe()\n",
        "\n",
        "x = dataset.iloc[:, :-1].values\n",
        "y = dataset.iloc[:,1].values\n",
        "print(x)\n",
        "print(y)\n",
        "\n",
        "x_train, x_test, y_train, y_test = train_test_split(x, y, test_size = 0.2, random_state = 0)\n",
        "\n",
        "regressor = LinearRegression()\n",
        "regressor.fit(x_train, y_train)\n",
        "\n",
        "print(regressor.intercept_)\n",
        "print(regressor.coef_)\n",
        "\n",
        "y_pred = regressor.predict(x_test)\n",
        "df = pd.DataFrame({'Actual' : y_test, 'Predicted': y_pred})\n",
        "df\n",
        "\n",
        "df.plot(kind='bar')\n",
        "plt.grid(which='major', linestyle='-', linewidth='0.5', color = 'green')\n",
        "plt.grid(which='minor', linestyle='-', linewidth='0.5', color = 'black')\n",
        "plt.show()\n",
        "\n",
        "plt.scatter(x_test, y_test, color = 'gray')\n",
        "plt.plot(x_test, y_pred, color = 'red', linewidth=2)\n",
        "plt.show()"
      ],
      "metadata": {
        "colab": {
          "base_uri": "https://localhost:8080/",
          "height": 961
        },
        "id": "DsR_0sjTfHS1",
        "outputId": "7112a23d-1221-4379-9c17-bbf9a5b9e80c"
      },
      "execution_count": null,
      "outputs": [
        {
          "output_type": "stream",
          "name": "stdout",
          "text": [
            "(21, 2)\n",
            "[[0.5 ]\n",
            " [0.75]\n",
            " [1.  ]\n",
            " [1.25]\n",
            " [1.5 ]\n",
            " [1.75]\n",
            " [2.  ]\n",
            " [2.25]\n",
            " [2.5 ]\n",
            " [2.75]\n",
            " [3.  ]\n",
            " [3.25]\n",
            " [3.5 ]\n",
            " [3.75]\n",
            " [4.  ]\n",
            " [4.25]\n",
            " [4.5 ]\n",
            " [4.75]\n",
            " [5.  ]\n",
            " [5.25]\n",
            " [5.5 ]]\n",
            "[ 10  22  13  43  20  22  33  50  62  48  55  75  62  73  81  76  64  82\n",
            "  90  93 100]\n",
            "2.5346534653465227\n",
            "[16.96181047]\n"
          ]
        },
        {
          "output_type": "display_data",
          "data": {
            "text/plain": [
              "<Figure size 432x288 with 1 Axes>"
            ],
            "image/png": "[encoded data removed]"
          },
          "metadata": {
            "needs_background": "light"
          }
        },
        {
          "output_type": "display_data",
          "data": {
            "text/plain": [
              "<Figure size 432x288 with 1 Axes>"
            ],
            "image/png": "[encoded data removed]"
          },
          "metadata": {
            "needs_background": "light"
          }
        }
      ]
    },
    {
      "cell_type": "markdown",
      "source": [
        "Задание: постройте модель линейной регрессии для произвольных данных из двух\n",
        "столбцов. Для примера можно взять точечную зависимость заработной платы от\n",
        "опыта работы:\n",
        "(https://raw.githubusercontent.com/AnnaShestova/salary-years-simple-linearregression/master/Salary_Data.csv).\n",
        "Найдите коэффициенты линии регрессии. Постройте прогноз.\n"
      ],
      "metadata": {
        "id": "AG4gFizZgm3r"
      }
    },
    {
      "cell_type": "code",
      "source": [
        "import pandas as pd\n",
        "import numpy as np\n",
        "import matplotlib.pyplot as plt\n",
        "\n",
        "from pandas import DataFrame, Series \n",
        "from sklearn.model_selection import train_test_split\n",
        "from sklearn.linear_model import LinearRegression\n",
        "\n",
        "\n",
        "url = 'https://raw.githubusercontent.com/AnnaShestova/salary-years-simple-linear-regression/master/Salary_Data.csv'\n",
        "\n",
        "dataset = pd.read_csv(url)\n",
        "dataset.head()\n",
        "\n",
        "print(dataset)\n",
        "\n",
        "print(dataset.shape)\n",
        "dataset.describe()\n",
        "\n",
        "plt.scatter(dataset['YearsExperience'], dataset['Salary'], color = 'b', label = 'данные экзамена')\n",
        "plt.xlabel(\"Часы\")\n",
        "plt.ylabel(\"Оценка\")\n",
        "plt.show()\n",
        "\n",
        "x = dataset.iloc[:, :-1].values\n",
        "y = dataset.iloc[:,1].values\n",
        "print(x)\n",
        "print(y)\n",
        "\n",
        "x_train, x_test, y_train, y_test = train_test_split(x, y, test_size = 0.2, random_state = 0)\n",
        "\n",
        "regressor = LinearRegression()\n",
        "regressor.fit(x_train, y_train)\n",
        "\n",
        "print(regressor.intercept_)\n",
        "print(regressor.coef_)"
      ],
      "metadata": {
        "id": "WAn7dzTFjoKc",
        "colab": {
          "base_uri": "https://localhost:8080/",
          "height": 1459
        },
        "outputId": "c32a44ea-777f-4a0b-e5f4-b78d14823529"
      },
      "execution_count": 61,
      "outputs": [
        {
          "output_type": "stream",
          "name": "stdout",
          "text": [
            "    YearsExperience    Salary\n",
            "0               1.1   39343.0\n",
            "1               1.3   46205.0\n",
            "2               1.5   37731.0\n",
            "3               2.0   43525.0\n",
            "4               2.2   39891.0\n",
            "5               2.9   56642.0\n",
            "6               3.0   60150.0\n",
            "7               3.2   54445.0\n",
            "8               3.2   64445.0\n",
            "9               3.7   57189.0\n",
            "10              3.9   63218.0\n",
            "11              4.0   55794.0\n",
            "12              4.0   56957.0\n",
            "13              4.1   57081.0\n",
            "14              4.5   61111.0\n",
            "15              4.9   67938.0\n",
            "16              5.1   66029.0\n",
            "17              5.3   83088.0\n",
            "18              5.9   81363.0\n",
            "19              6.0   93940.0\n",
            "20              6.8   91738.0\n",
            "21              7.1   98273.0\n",
            "22              7.9  101302.0\n",
            "23              8.2  113812.0\n",
            "24              8.7  109431.0\n",
            "25              9.0  105582.0\n",
            "26              9.5  116969.0\n",
            "27              9.6  112635.0\n",
            "28             10.3  122391.0\n",
            "29             10.5  121872.0\n",
            "(30, 2)\n"
          ]
        },
        {
          "output_type": "display_data",
          "data": {
            "text/plain": [
              "<Figure size 432x288 with 1 Axes>"
            ],
            "image/png": "[encoded data removed]"
          },
          "metadata": {
            "needs_background": "light"
          }
        },
        {
          "output_type": "stream",
          "name": "stdout",
          "text": [
            "[[ 1.1]\n",
            " [ 1.3]\n",
            " [ 1.5]\n",
            " [ 2. ]\n",
            " [ 2.2]\n",
            " [ 2.9]\n",
            " [ 3. ]\n",
            " [ 3.2]\n",
            " [ 3.2]\n",
            " [ 3.7]\n",
            " [ 3.9]\n",
            " [ 4. ]\n",
            " [ 4. ]\n",
            " [ 4.1]\n",
            " [ 4.5]\n",
            " [ 4.9]\n",
            " [ 5.1]\n",
            " [ 5.3]\n",
            " [ 5.9]\n",
            " [ 6. ]\n",
            " [ 6.8]\n",
            " [ 7.1]\n",
            " [ 7.9]\n",
            " [ 8.2]\n",
            " [ 8.7]\n",
            " [ 9. ]\n",
            " [ 9.5]\n",
            " [ 9.6]\n",
            " [10.3]\n",
            " [10.5]]\n",
            "[ 39343.  46205.  37731.  43525.  39891.  56642.  60150.  54445.  64445.\n",
            "  57189.  63218.  55794.  56957.  57081.  61111.  67938.  66029.  83088.\n",
            "  81363.  93940.  91738.  98273. 101302. 113812. 109431. 105582. 116969.\n",
            " 112635. 122391. 121872.]\n",
            "26780.09915062818\n",
            "[9312.57512673]\n"
          ]
        }
      ]
    },
    {
      "cell_type": "code",
      "source": [
        "import pandas as pd\n",
        "import numpy as np\n",
        "import matplotlib.pyplot as plt\n",
        "\n",
        "from pandas import DataFrame, Series \n",
        "from sklearn.model_selection import train_test_split\n",
        "from sklearn.linear_model import LinearRegression\n",
        "\n",
        "\n",
        "\n",
        "url = 'https://raw.githubusercontent.com/AnnaShestova/salary-years-simple-linear-regression/master/Salary_Data.csv'\n",
        "\n",
        "dataset = pd.read_csv(url)\n",
        "dataset.head()\n",
        "dataset.head()\n",
        "\n",
        "print(dataset.shape)\n",
        "dataset.describe()\n",
        "\n",
        "x = dataset.iloc[:, :-1].values\n",
        "y = dataset.iloc[:,1].values\n",
        "print(x)\n",
        "print(y)\n",
        "\n",
        "x_train, x_test, y_train, y_test = train_test_split(x, y, test_size = 0.2, random_state = 0)\n",
        "\n",
        "regressor = LinearRegression()\n",
        "regressor.fit(x_train, y_train)\n",
        "\n",
        "print(regressor.intercept_)\n",
        "print(regressor.coef_)\n",
        "\n",
        "y_pred = regressor.predict(x_test)\n",
        "df = pd.DataFrame({'Actual' : y_test, 'Predicted': y_pred})\n",
        "df\n",
        "\n",
        "df.plot(kind='bar')\n",
        "plt.grid(which='major', linestyle='-', linewidth='0.5', color = 'green')\n",
        "plt.grid(which='minor', linestyle='-', linewidth='0.5', color = 'black')\n",
        "plt.show()\n",
        "\n",
        "plt.scatter(x_test, y_test, color = 'gray')\n",
        "plt.plot(x_test, y_pred, color = 'red', linewidth=2)\n",
        "plt.show()"
      ],
      "metadata": {
        "colab": {
          "base_uri": "https://localhost:8080/",
          "height": 1152
        },
        "id": "vWWQZjW9khJN",
        "outputId": "4a56b107-7cdf-4124-f82f-2ebaafdbb9dd"
      },
      "execution_count": 62,
      "outputs": [
        {
          "output_type": "stream",
          "name": "stdout",
          "text": [
            "(30, 2)\n",
            "[[ 1.1]\n",
            " [ 1.3]\n",
            " [ 1.5]\n",
            " [ 2. ]\n",
            " [ 2.2]\n",
            " [ 2.9]\n",
            " [ 3. ]\n",
            " [ 3.2]\n",
            " [ 3.2]\n",
            " [ 3.7]\n",
            " [ 3.9]\n",
            " [ 4. ]\n",
            " [ 4. ]\n",
            " [ 4.1]\n",
            " [ 4.5]\n",
            " [ 4.9]\n",
            " [ 5.1]\n",
            " [ 5.3]\n",
            " [ 5.9]\n",
            " [ 6. ]\n",
            " [ 6.8]\n",
            " [ 7.1]\n",
            " [ 7.9]\n",
            " [ 8.2]\n",
            " [ 8.7]\n",
            " [ 9. ]\n",
            " [ 9.5]\n",
            " [ 9.6]\n",
            " [10.3]\n",
            " [10.5]]\n",
            "[ 39343.  46205.  37731.  43525.  39891.  56642.  60150.  54445.  64445.\n",
            "  57189.  63218.  55794.  56957.  57081.  61111.  67938.  66029.  83088.\n",
            "  81363.  93940.  91738.  98273. 101302. 113812. 109431. 105582. 116969.\n",
            " 112635. 122391. 121872.]\n",
            "26780.09915062818\n",
            "[9312.57512673]\n"
          ]
        },
        {
          "output_type": "display_data",
          "data": {
            "text/plain": [
              "<Figure size 432x288 with 1 Axes>"
            ],
            "image/png": "[encoded data removed]"
          },
          "metadata": {
            "needs_background": "light"
          }
        },
        {
          "output_type": "display_data",
          "data": {
            "text/plain": [
              "<Figure size 432x288 with 1 Axes>"
            ],
            "image/png": "[encoded data removed]"
          },
          "metadata": {
            "needs_background": "light"
          }
        }
      ]
    },
    {
      "cell_type": "markdown",
      "source": [
        "1.3.1 Пример: Для решения задачи множественной регрессии можно задействовать уже\n",
        "известный метод numpy.linalg.lstsq"
      ],
      "metadata": {
        "id": "BCY5feailCGb"
      }
    },
    {
      "cell_type": "code",
      "source": [
        "import numpy as np\n",
        "\n",
        "y = [1,2,3,4,3,4,5,3,5,5,4,5,4,5,4,5,6,0,6,3,1,3,1]\n",
        "X = [[0,2,4,1,5,4,5,9,9,9,3,7,8,8,6,6,5,5,5,6,6,5,5],\n",
        "[4,1,2,3,4,5,6,7,5,8,7,8,7,8,7,8,6,8,9,2,1,5,6],\n",
        "[4,1,2,5,6,7,8,9,7,8,7,8,7,4,3,1,2,3,4,1,3,9,7]]\n",
        "X = np.transpose(X) \n",
        "X = np.c_[X, np.ones(X.shape[0])]  \n",
        "linreg = np.linalg.lstsq(X, y, rcond=None)[0] \n",
        "print(linreg)"
      ],
      "metadata": {
        "colab": {
          "base_uri": "https://localhost:8080/",
          "height": 0
        },
        "id": "RMVz8OTElEl3",
        "outputId": "170f669e-3e15-4ba6-cdc1-3e63b74955cf"
      },
      "execution_count": 68,
      "outputs": [
        {
          "output_type": "stream",
          "name": "stdout",
          "text": [
            "[ 0.1338682   0.26840334 -0.02874936  1.5122571 ]\n"
          ]
        }
      ]
    },
    {
      "cell_type": "markdown",
      "source": [
        "1.3.2 Пример: для данных из предыдущей задачи построить модель множественной\n",
        "линейной регрессии с использованием средств библиотеки sсikit-learn"
      ],
      "metadata": {
        "id": "VI3AhdEXmfKT"
      }
    },
    {
      "cell_type": "code",
      "source": [
        "\n",
        "import pandas as pd\n",
        "import numpy as np\n",
        "import matplotlib.pyplot as plt\n",
        "import seaborn as seabornInstance\n",
        "from sklearn.model_selection import train_test_split\n",
        "from sklearn.linear_model import LinearRegression \n",
        "from sklearn import metrics\n",
        "\n",
        "y = [1,2,3,4,3,4,5,3,5,5,4,5,4,5,4,5,6,0,6,3,1,3,1] \n",
        "X = [[0,2,4,1,5,4,5,9,9,9,3,7,8,8,6,6,5,5,5,6,6,5,5], [4,1,2,3,4,5,6,7,5,8,7,8,7,8,7,8,6,8,9,2,1,5,6], [4,1,2,5,6,7,8,9,7,8,7,8,7,4,3,1,2,3,4,1,3,9,7]]\n",
        "\n",
        "new_y = np.array(y)\n",
        "new_y = new_y.transpose()\n",
        "df1 = pd.DataFrame(new_y)\n",
        "new_X = np.array(X)\n",
        "new_X = new_X.transpose()\n",
        "df2 = pd.DataFrame(new_X)\n",
        "df1 = df1.rename(columns = {0: 'y'}, inplace = False)\n",
        "df2 = df2.rename(columns = {0: 'x1', 1: 'x2', 2: 'x3'}, inplace = False)\n",
        "frames = [df1, df2]\n",
        "dataset = pd.concat([df1, df2], axis=1, join=\"inner\")\n",
        "print(dataset.head())\n",
        "\n",
        "print(dataset.shape)\n",
        "print(dataset.describe())\n",
        "\n",
        "X = dataset[['x1', 'x2', 'x3']]\n",
        "y = dataset['y']\n",
        "\n",
        "X_train, X_test, y_train, y_test = train_test_split(X, y, test_size=0.2, random_state = None)\n",
        "regressor.fit(X_train, y_train)\n",
        "\n",
        "coeff_df = pd.DataFrame(regressor.coef_, X.columns, columns=['Coefficient'])\n",
        "print(coeff_df)\n",
        "\n",
        "y_pred = regressor.predict(X_test)\n",
        "df = pd.DataFrame({'Actual': y_test, 'Predicted': y_pred})\n",
        "print(df)\n",
        "\n",
        "print('Mean Squared Error:', metrics.mean_squared_error(y_test, y_pred))"
      ],
      "metadata": {
        "colab": {
          "base_uri": "https://localhost:8080/",
          "height": 0
        },
        "id": "D5oSkIc2mqRM",
        "outputId": "5fa2a0cb-af44-489b-aed6-21e18b0096d5"
      },
      "execution_count": 78,
      "outputs": [
        {
          "output_type": "stream",
          "name": "stdout",
          "text": [
            "   y  x1  x2  x3\n",
            "0  1   0   4   4\n",
            "1  2   2   1   1\n",
            "2  3   4   2   2\n",
            "3  4   1   3   5\n",
            "4  3   5   4   6\n",
            "(23, 4)\n",
            "               y         x1         x2         x3\n",
            "count  23.000000  23.000000  23.000000  23.000000\n",
            "mean    3.565217   5.347826   5.521739   5.043478\n",
            "std     1.674029   2.404706   2.428422   2.704849\n",
            "min     0.000000   0.000000   1.000000   1.000000\n",
            "25%     3.000000   4.500000   4.000000   3.000000\n",
            "50%     4.000000   5.000000   6.000000   5.000000\n",
            "75%     5.000000   6.500000   7.500000   7.000000\n",
            "max     6.000000   9.000000   9.000000   9.000000\n",
            "    Coefficient\n",
            "x1     0.016347\n",
            "x2     0.263566\n",
            "x3     0.078355\n",
            "    Actual  Predicted\n",
            "0        1   2.967556\n",
            "21       3   3.704633\n",
            "16       6   3.419715\n",
            "19       3   2.303443\n",
            "1        2   1.974488\n",
            "Mean Squared Error: 2.302299508251808\n"
          ]
        }
      ]
    },
    {
      "cell_type": "markdown",
      "source": [
        "Задание: Постройте модель множественной линейной регрессии для произвольных\n",
        "данных из нескольких столбцов. Для примера можно взять потребления\n",
        "газа (в миллионах галлонов) в 48 штатах США или набор данных о\n",
        "качестве красного вина (1) и (2) соответственно. Найдите коэффициенты\n",
        "множественной регрессии. Постройте прогноз."
      ],
      "metadata": {
        "id": "twEGztDwoYwi"
      }
    },
    {
      "cell_type": "code",
      "source": [
        "\n",
        "import pandas as pd\n",
        "import numpy as np\n",
        "import matplotlib.pyplot as plt\n",
        "import seaborn as seabornInstance\n",
        "from sklearn.model_selection import train_test_split\n",
        "from sklearn.linear_model import LinearRegression \n",
        "from sklearn import metrics\n",
        "\n",
        "\n",
        "y = [1,2,3,4,3,4,5,3,5,5,4,5,4,5,4,5,6,0,6,3,1,3,1] \n",
        "X = [[0,2,4,1,5,4,5,9,9,9,3,7,8,8,6,6,5,5,5,6,6,5,5], [4,1,2,3,4,5,6,7,5,8,7,8,7,8,7,8,6,8,9,2,1,5,6], [4,1,2,5,6,7,8,9,7,8,7,8,7,4,3,1,2,3,4,1,3,9,7]]\n",
        "\n",
        "new_y = np.array(y)\n",
        "new_y = new_y.transpose()\n",
        "df1 = pd.DataFrame(new_y)\n",
        "new_X = np.array(X)\n",
        "new_X = new_X.transpose()\n",
        "df2 = pd.DataFrame(new_X)\n",
        "df1 = df1.rename(columns = {0: 'y'}, inplace = False)\n",
        "df2 = df2.rename(columns = {0: 'x1', 1: 'x2', 2: 'x3'}, inplace = False)\n",
        "frames = [df1, df2]\n",
        "dataset = pd.read_csv(\"https://raw.githubusercontent.com/aniruddhachoudhury/Red-Wine-Quality/master/winequality-red.csv\")\n",
        "print(dataset.head())\n",
        "\n",
        "print(dataset.shape)\n",
        "print(dataset.describe())\n",
        "\n",
        "X = dataset[['fixed acidity', 'volatile acidity', 'citric acid']]\n",
        "y = dataset['quality']\n",
        "\n",
        "X_train, X_test, y_train, y_test = train_test_split(X, y, test_size=0.2, random_state = None)\n",
        "regressor.fit(X_train, y_train)\n",
        "\n",
        "coeff_df = pd.DataFrame(regressor.coef_, X.columns, columns=['Coefficient'])\n",
        "print(coeff_df)\n",
        "\n",
        "y_pred = regressor.predict(X_test)\n",
        "df = pd.DataFrame({'Actual': y_test, 'Predicted': y_pred})\n",
        "print(df)\n",
        "\n",
        "print('Mean Squared Error:', metrics.mean_squared_error(y_test, y_pred))"
      ],
      "metadata": {
        "colab": {
          "base_uri": "https://localhost:8080/",
          "height": 0
        },
        "id": "5es2qcy8og1D",
        "outputId": "eb9e5f62-e356-4707-8e89-165f039d17e9"
      },
      "execution_count": 84,
      "outputs": [
        {
          "output_type": "stream",
          "name": "stdout",
          "text": [
            "   fixed acidity  volatile acidity  citric acid  residual sugar  chlorides  \\\n",
            "0            7.4              0.70         0.00             1.9      0.076   \n",
            "1            7.8              0.88         0.00             2.6      0.098   \n",
            "2            7.8              0.76         0.04             2.3      0.092   \n",
            "3           11.2              0.28         0.56             1.9      0.075   \n",
            "4            7.4              0.70         0.00             1.9      0.076   \n",
            "\n",
            "   free sulfur dioxide  total sulfur dioxide  density    pH  sulphates  \\\n",
            "0                 11.0                  34.0   0.9978  3.51       0.56   \n",
            "1                 25.0                  67.0   0.9968  3.20       0.68   \n",
            "2                 15.0                  54.0   0.9970  3.26       0.65   \n",
            "3                 17.0                  60.0   0.9980  3.16       0.58   \n",
            "4                 11.0                  34.0   0.9978  3.51       0.56   \n",
            "\n",
            "   alcohol  quality  \n",
            "0      9.4        5  \n",
            "1      9.8        5  \n",
            "2      9.8        5  \n",
            "3      9.8        6  \n",
            "4      9.4        5  \n",
            "(1599, 12)\n",
            "       fixed acidity  volatile acidity  citric acid  residual sugar  \\\n",
            "count    1599.000000       1599.000000  1599.000000     1599.000000   \n",
            "mean        8.319637          0.527821     0.270976        2.538806   \n",
            "std         1.741096          0.179060     0.194801        1.409928   \n",
            "min         4.600000          0.120000     0.000000        0.900000   \n",
            "25%         7.100000          0.390000     0.090000        1.900000   \n",
            "50%         7.900000          0.520000     0.260000        2.200000   \n",
            "75%         9.200000          0.640000     0.420000        2.600000   \n",
            "max        15.900000          1.580000     1.000000       15.500000   \n",
            "\n",
            "         chlorides  free sulfur dioxide  total sulfur dioxide      density  \\\n",
            "count  1599.000000          1599.000000           1599.000000  1599.000000   \n",
            "mean      0.087467            15.874922             46.467792     0.996747   \n",
            "std       0.047065            10.460157             32.895324     0.001887   \n",
            "min       0.012000             1.000000              6.000000     0.990070   \n",
            "25%       0.070000             7.000000             22.000000     0.995600   \n",
            "50%       0.079000            14.000000             38.000000     0.996750   \n",
            "75%       0.090000            21.000000             62.000000     0.997835   \n",
            "max       0.611000            72.000000            289.000000     1.003690   \n",
            "\n",
            "                pH    sulphates      alcohol      quality  \n",
            "count  1599.000000  1599.000000  1599.000000  1599.000000  \n",
            "mean      3.311113     0.658149    10.422983     5.636023  \n",
            "std       0.154386     0.169507     1.065668     0.807569  \n",
            "min       2.740000     0.330000     8.400000     3.000000  \n",
            "25%       3.210000     0.550000     9.500000     5.000000  \n",
            "50%       3.310000     0.620000    10.200000     6.000000  \n",
            "75%       3.400000     0.730000    11.100000     6.000000  \n",
            "max       4.010000     2.000000    14.900000     8.000000  \n",
            "                  Coefficient\n",
            "fixed acidity        0.024956\n",
            "volatile acidity    -1.775737\n",
            "citric acid         -0.096553\n",
            "      Actual  Predicted\n",
            "851        5   5.824160\n",
            "1226       5   5.552466\n",
            "1286       6   6.248707\n",
            "888        6   5.555651\n",
            "1471       5   5.314586\n",
            "...      ...        ...\n",
            "1525       5   5.705248\n",
            "341        6   5.870497\n",
            "520        6   6.151443\n",
            "6          5   5.524037\n",
            "1291       6   5.465511\n",
            "\n",
            "[320 rows x 2 columns]\n",
            "Mean Squared Error: 0.5846145220611787\n"
          ]
        }
      ]
    },
    {
      "cell_type": "code",
      "source": [
        "import numpy as np\n",
        "import matplotlib.pyplot as plt\n",
        "\n",
        "x = np.array([0, 0.2, 0.4, 0.6, 0.8, 1.0])\n",
        "y = np.array([3.0, 6.0, 3.0, 6.0, 4.0, 3.0])\n",
        "\n",
        "A = np.vstack([x, np.ones(len(x))]).T\n",
        "A\n",
        "\n",
        "m, c = np.linalg.lstsq(A, y, rcond = None)[0]\n",
        "\n",
        "print(m,c)\n",
        "\n",
        "plt.plot(x,y, 'o', label=\"Искходые данные\", markersize = 10)\n",
        "plt.plot(x, m*x + c, 'r', label='Линейная экстраполяция')\n",
        "plt.legend()\n",
        "plt.show()"
      ],
      "metadata": {
        "colab": {
          "base_uri": "https://localhost:8080/",
          "height": 282
        },
        "id": "wb28Z8j4p0sl",
        "outputId": "0419d1b2-82c7-46c0-d2d2-6a98c892473e"
      },
      "execution_count": 87,
      "outputs": [
        {
          "output_type": "stream",
          "name": "stdout",
          "text": [
            "-0.4285714285714293 4.380952380952379\n"
          ]
        },
        {
          "output_type": "display_data",
          "data": {
            "text/plain": [
              "<Figure size 432x288 with 1 Axes>"
            ],
            "image/png": "[encoded data removed]"
          },
          "metadata": {
            "needs_background": "light"
          }
        }
      ]
    },
    {
      "cell_type": "code",
      "source": [
        "import numpy as np\n",
        "import matplotlib.pyplot as plt\n",
        "\n",
        "x = np.array([0, 0.2, 0.4, 0.6, 0.8, 1.0])\n",
        "y = np.array([3.0, 6.0, 3.0, 6.0, 4.0, 3.0])\n",
        "\n",
        "m = vstack((x**2, x ,ones(6))).T\n",
        "\n",
        "s = np.linalg.lstsq(m, y, rcond = None)[0]\n",
        "\n",
        "x_prec = linspace(0, 1, 101)\n",
        "\n",
        "plt.plot(x,y,'D')\n",
        "\n",
        "plt.plot(x_prec, s[0] * x_prec**2 + s[1] * x_prec + s[2], '-', lw=2)\n",
        "plt.grid()\n",
        "plt.savefig('parabola.png')"
      ],
      "metadata": {
        "colab": {
          "base_uri": "https://localhost:8080/",
          "height": 265
        },
        "id": "tefb_uYLqpZX",
        "outputId": "3962ca8c-ba67-4b2e-9561-a2ffd4a82ed9"
      },
      "execution_count": 90,
      "outputs": [
        {
          "output_type": "display_data",
          "data": {
            "text/plain": [
              "<Figure size 432x288 with 1 Axes>"
            ],
            "image/png": "[encoded data removed]"
          },
          "metadata": {
            "needs_background": "light"
          }
        }
      ]
    }
  ]
}